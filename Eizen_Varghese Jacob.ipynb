{
 "cells": [
  {
   "cell_type": "raw",
   "id": "92caa897",
   "metadata": {},
   "source": [
    "1) ROMAN NUMERALS CONVERSION"
   ]
  },
  {
   "cell_type": "code",
   "execution_count": 37,
   "id": "8c3a2fb5",
   "metadata": {},
   "outputs": [
    {
     "name": "stdout",
     "output_type": "stream",
     "text": [
      "Enter the Roman numeral to be converted : lxvii\n",
      "-----------------------\n",
      "The converted one is :  67\n"
     ]
    }
   ],
   "source": [
    "def conversion(s):\n",
    "    alpha={'I': 1, 'V': 5, 'X': 10, 'L': 50, 'C': 100, 'D': 500, 'M': 1000}\n",
    "    total = 0\n",
    "    for i in range(len(s)):\n",
    "        current=alpha[s[i].upper()]\n",
    "        if i<len(s)-1 and alpha[s[i].upper()]<alpha[s[i+1].upper()]:\n",
    "            total-=current\n",
    "        else:\n",
    "            total+=current\n",
    "    return total\n",
    "        \n",
    "roman=input(\"Enter the Roman numeral to be converted : \") \n",
    "ans=conversion(roman)\n",
    "print(\"-----------------------\")\n",
    "print(\"The converted one is : \",ans)\n",
    "    \n",
    "    \n",
    "    \n",
    "    \n",
    "    "
   ]
  },
  {
   "cell_type": "raw",
   "id": "147850ad",
   "metadata": {},
   "source": [
    "2) LONGEST COMMON PREFIX"
   ]
  },
  {
   "cell_type": "code",
   "execution_count": 104,
   "id": "ddc0335c",
   "metadata": {},
   "outputs": [
    {
     "name": "stdout",
     "output_type": "stream",
     "text": [
      "Enter the number of words to be entered3\n",
      "Enter the stringflower\n",
      "Enter the stringflight\n",
      "Enter the stringflow\n"
     ]
    },
    {
     "data": {
      "text/plain": [
       "'fl'"
      ]
     },
     "execution_count": 104,
     "metadata": {},
     "output_type": "execute_result"
    }
   ],
   "source": [
    "def prefix(s):\n",
    "    s1=s[0]\n",
    "    for i in s[1:]:\n",
    "        while not i.startswith(s1):\n",
    "            s1 = s1[:-1]\n",
    "            if not s1:\n",
    "                return \"\"\n",
    "    return s1\n",
    "\n",
    "string=[]\n",
    "num=int(input(\"Enter the number of words to be entered\"))\n",
    "for i in range(0,num):\n",
    "    str1=input(\"Enter the string\")\n",
    "    string.append(str1)\n",
    "prefix(string)\n",
    "    \n",
    "\n"
   ]
  },
  {
   "cell_type": "raw",
   "id": "e1a3b886",
   "metadata": {},
   "source": [
    "3) INDEX OF INTEGERS SUMMING UP TO TARGET"
   ]
  },
  {
   "cell_type": "code",
   "execution_count": 147,
   "id": "b759c506",
   "metadata": {},
   "outputs": [
    {
     "name": "stdout",
     "output_type": "stream",
     "text": [
      "[2, 7, 11, 15]\n",
      "------------------------\n"
     ]
    },
    {
     "data": {
      "text/plain": [
       "(0, 1)"
      ]
     },
     "execution_count": 147,
     "metadata": {},
     "output_type": "execute_result"
    }
   ],
   "source": [
    "nums = [2,7,11,15] \n",
    "target = 9\n",
    "\n",
    "\n",
    "def index(s):\n",
    "    for i in range(len(s)):\n",
    "        for j in range(i + 1, len(s)):\n",
    "            if s[i] + s[j] == target:\n",
    "                return (i, j)\n",
    "    else:\n",
    "        return \"No solution found\"\n",
    "    \n",
    "    \n",
    "        \n",
    "print(nums)\n",
    "print(\"------------------------\")\n",
    "index(nums)    \n",
    "  "
   ]
  },
  {
   "cell_type": "raw",
   "id": "68673c4a",
   "metadata": {},
   "source": [
    "4) LONGEST SUBSTRING"
   ]
  },
  {
   "cell_type": "code",
   "execution_count": 158,
   "id": "acf49465",
   "metadata": {},
   "outputs": [
    {
     "name": "stdout",
     "output_type": "stream",
     "text": [
      "3\n"
     ]
    }
   ],
   "source": [
    "s = \"abcabcbb\"\n",
    "def substring(s):\n",
    "    max1 = 0\n",
    "\n",
    "    for i in range(len(s)):\n",
    "        sub = set()\n",
    "        len1 = 0\n",
    "\n",
    "        for j in range(i, len(s)):\n",
    "            if s[j] not in sub:\n",
    "                sub.add(s[j])\n",
    "                len1 += 1\n",
    "            else:\n",
    "                break\n",
    "\n",
    "        max1 = max(max1, len1)\n",
    "\n",
    "    return max1\n",
    "\n",
    "\n",
    "result = substring(s)\n",
    "print(result) \n",
    "\n"
   ]
  },
  {
   "cell_type": "code",
   "execution_count": null,
   "id": "2de29b73",
   "metadata": {},
   "outputs": [],
   "source": []
  },
  {
   "cell_type": "code",
   "execution_count": null,
   "id": "b1723cd1",
   "metadata": {},
   "outputs": [],
   "source": []
  }
 ],
 "metadata": {
  "kernelspec": {
   "display_name": "Python 3 (ipykernel)",
   "language": "python",
   "name": "python3"
  },
  "language_info": {
   "codemirror_mode": {
    "name": "ipython",
    "version": 3
   },
   "file_extension": ".py",
   "mimetype": "text/x-python",
   "name": "python",
   "nbconvert_exporter": "python",
   "pygments_lexer": "ipython3",
   "version": "3.9.7"
  }
 },
 "nbformat": 4,
 "nbformat_minor": 5
}
